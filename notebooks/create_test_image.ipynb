{
 "cells": [
  {
   "cell_type": "code",
   "execution_count": 1,
   "metadata": {},
   "outputs": [],
   "source": [
    "import cv2\n",
    "import numpy as np\n",
    "\n",
    "img = np.zeros((200, 200))\n",
    "center = (120, 70)\n",
    "axesLength = (80, 30)\n",
    "angle = 12\n",
    "startAngle = 0\n",
    "endAngle = 360\n",
    "color = (255, 0, 0)\n",
    "thickness = -1\n",
    "\n",
    "img = cv2.ellipse(img, center, axesLength, angle, startAngle, endAngle, color, thickness)"
   ]
  },
  {
   "cell_type": "code",
   "execution_count": 2,
   "metadata": {},
   "outputs": [],
   "source": [
    "center = (80, 150)\n",
    "axesLength = (50, 30)\n",
    "angle = -40\n",
    "startAngle = 0\n",
    "endAngle = 360\n",
    "color = (255, 0, 0)\n",
    "thickness = -1\n",
    "\n",
    "img = cv2.ellipse(img, center, axesLength, angle, startAngle, endAngle, color, thickness)\n",
    "img = 255 - img"
   ]
  },
  {
   "cell_type": "code",
   "execution_count": 3,
   "metadata": {},
   "outputs": [],
   "source": [
    "cv2.imshow(\"Test Image\", img)\n",
    "cv2.waitKey()\n",
    "cv2.destroyAllWindows()"
   ]
  },
  {
   "cell_type": "code",
   "execution_count": 5,
   "metadata": {},
   "outputs": [
    {
     "data": {
      "text/plain": [
       "True"
      ]
     },
     "execution_count": 5,
     "metadata": {},
     "output_type": "execute_result"
    }
   ],
   "source": [
    "cv2.imwrite(\"../images/test/test.png\", img)"
   ]
  },
  {
   "cell_type": "code",
   "execution_count": null,
   "metadata": {},
   "outputs": [],
   "source": []
  }
 ],
 "metadata": {
  "kernelspec": {
   "display_name": "Python 3.8.11 ('base')",
   "language": "python",
   "name": "python3"
  },
  "language_info": {
   "codemirror_mode": {
    "name": "ipython",
    "version": 3
   },
   "file_extension": ".py",
   "mimetype": "text/x-python",
   "name": "python",
   "nbconvert_exporter": "python",
   "pygments_lexer": "ipython3",
   "version": "3.8.11"
  },
  "orig_nbformat": 4,
  "vscode": {
   "interpreter": {
    "hash": "3aed6fdd8168f02e3f1ef7d0269fdd4f9c8ffbd4bf13100fc2ef6dc21ffd90b8"
   }
  }
 },
 "nbformat": 4,
 "nbformat_minor": 2
}
